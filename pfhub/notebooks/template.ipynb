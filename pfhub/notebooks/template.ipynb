{
 "cells": [
  {
   "cell_type": "code",
   "execution_count": 1,
   "id": "7a485cee-4ac9-4adb-9419-91c0c2bbf52c",
   "metadata": {
    "editable": true,
    "slideshow": {
     "slide_type": ""
    },
    "tags": [
     "parameters"
    ]
   },
   "outputs": [],
   "source": [
    "benchmark_id = \"3a.1\"\n",
    "line_plots = []\n",
    "contour_plots = []\n",
    "efficiency = True\n",
    "benchmark_path = r\"https://raw.githubusercontent.com/usnistgov/pfhub/master/_data/simulation_list.yaml\""
   ]
  },
  {
   "cell_type": "code",
   "execution_count": null,
   "id": "5e712224",
   "metadata": {},
   "outputs": [],
   "source": [
    "from IPython.display import display_markdown\n",
    "\n",
    "display_markdown(\n",
    "    f\"\"\"\n",
    "# Benchmark { benchmark_id } Results\n",
    "\n",
    "All results for the [{ benchmark_id } benchmark specification](../../benchmarks/benchmark{ benchmark_id }.ipynb/).\n",
    "\"\"\",\n",
    "    raw=True,\n",
    ")"
   ]
  },
  {
   "cell_type": "code",
   "execution_count": null,
   "id": "d27ac4ea",
   "metadata": {},
   "outputs": [],
   "source": [
    "# To generate the comparison notebooks use:\n",
    "#\n",
    "# papermill template.ipynb benchmark{version}.ipynb -f bm{version}.yaml\n",
    "#"
   ]
  },
  {
   "cell_type": "code",
   "execution_count": null,
   "id": "28ca241f",
   "metadata": {},
   "outputs": [],
   "source": [
    "from IPython.display import HTML\n",
    "\n",
    "HTML(\n",
    "    \"\"\"<script>\n",
    "code_show=true; \n",
    "function code_toggle() {\n",
    " if (code_show){\n",
    " $('div.input').hide();\n",
    " $('div.prompt').hide();\n",
    " } else {\n",
    " $('div.input').show();\n",
    "$('div.prompt').show();\n",
    " }\n",
    " code_show = !code_show\n",
    "} \n",
    "$( document ).ready(code_toggle);\n",
    "</script>\n",
    "<form action=\"javascript:code_toggle()\"><input type=\"submit\" value=\"Code Toggle\"></form>\"\"\"\n",
    ")"
   ]
  },
  {
   "cell_type": "code",
   "execution_count": null,
   "id": "ff6adee5",
   "metadata": {},
   "outputs": [],
   "source": [
    "# from IPython.display import HTML, display\n",
    "# from time import sleep\n",
    "\n",
    "# display(HTML(\"\"\"\n",
    "# <script src=\"https://cdnjs.cloudflare.com/ajax/libs/jquery/2.1.1/jquery.min.js\"></script>\n",
    "# \"\"\"))\n",
    "\n",
    "# sleep(0.1)\n",
    "\n",
    "from IPython.display import HTML, display, display_markdown\n",
    "from time import sleep\n",
    "\n",
    "# import logging\n",
    "# logging.basicConfig(format='%(asctime)s - %(message)s', level=logging.DEBUG)\n",
    "\n",
    "display(\n",
    "    HTML(\n",
    "        \"\"\"\n",
    "<script src=\"https://cdnjs.cloudflare.com/ajax/libs/require.js/2.1.10/require.min.js\"></script>\n",
    "\"\"\"\n",
    "    )\n",
    ")\n",
    "\n",
    "sleep(0.1)\n",
    "\n",
    "\n",
    "from pfhub.main import (\n",
    "    line_plot,\n",
    "    levelset_plot,\n",
    "    get_table_data_style,\n",
    "    plot_order_of_accuracy,\n",
    "    get_result_data,\n",
    "    efficiency_plot,\n",
    ")\n",
    "from pfhub.func import clear_cache as clear_cache_\n",
    "\n",
    "# import itables.interactive\n",
    "from itables import init_notebook_mode\n",
    "\n",
    "init_notebook_mode(all_interactive=False)"
   ]
  },
  {
   "cell_type": "code",
   "execution_count": null,
   "id": "d45d695e",
   "metadata": {},
   "outputs": [],
   "source": [
    "colors = dict()\n",
    "\n",
    "for x in line_plots:\n",
    "    fig = line_plot(\n",
    "        data_name=x[\"name\"],\n",
    "        benchmark_id=benchmark_id,\n",
    "        layout=x[\"layout\"],\n",
    "        columns=x.get(\"columns\", (\"x\", \"y\")),\n",
    "        benchmark_path=benchmark_path,\n",
    "    )\n",
    "    if \"extra_lines\" in x:\n",
    "        for kwargs in x[\"extra_lines\"]:\n",
    "            fig.add_scatter(**kwargs)\n",
    "    for datum in fig[\"data\"]:\n",
    "        name = datum[\"name\"]\n",
    "        color = datum[\"line\"][\"color\"]\n",
    "        datum[\"line\"][\"color\"] = colors.get(name, color)\n",
    "        colors[name] = datum[\"line\"][\"color\"]\n",
    "    fig.show()"
   ]
  },
  {
   "cell_type": "code",
   "execution_count": null,
   "id": "a462777c",
   "metadata": {},
   "outputs": [],
   "source": [
    "for x in contour_plots:\n",
    "    data = get_result_data(\n",
    "        [x[\"name\"]], [benchmark_id], x[\"columns\"], benchmark_path=benchmark_path\n",
    "    )\n",
    "\n",
    "    levelset_plot(\n",
    "        data,\n",
    "        layout=x[\"layout\"],\n",
    "        mask_func=lambda df: (x[\"mask_z\"][0] < df.z) & (df.z < x[\"mask_z\"][1]),\n",
    "        columns=x[\"columns\"],\n",
    "    ).show()"
   ]
  },
  {
   "cell_type": "code",
   "execution_count": null,
   "id": "b61bd20d",
   "metadata": {},
   "outputs": [],
   "source": [
    "if efficiency:\n",
    "    efficiency_plot(benchmark_id, benchmark_path=benchmark_path).show()\n",
    "    display_markdown(\n",
    "        \"<span class='plotly-footnote' >* Wall time divided by the total simulated time.</span>\",\n",
    "        raw=True,\n",
    "    )"
   ]
  },
  {
   "cell_type": "code",
   "execution_count": null,
   "id": "4cc974f6",
   "metadata": {},
   "outputs": [],
   "source": [
    "display_markdown(\n",
    "    f\"\"\"\n",
    "# Table of Results\n",
    "\n",
    "Table of { benchmark_id } benchmark result uploads.\n",
    "\"\"\",\n",
    "    raw=True,\n",
    ")"
   ]
  },
  {
   "cell_type": "code",
   "execution_count": null,
   "id": "efad069c",
   "metadata": {},
   "outputs": [],
   "source": [
    "## Currently switching off interactive tables as these are not converted to HTML properly.\n",
    "## This might improve when jupyter-nbcovert is updated to a later version.\n",
    "\n",
    "init_notebook_mode(all_interactive=False)\n",
    "get_table_data_style(benchmark_id, benchmark_path=benchmark_path)"
   ]
  },
  {
   "cell_type": "code",
   "execution_count": null,
   "id": "9f067297",
   "metadata": {},
   "outputs": [],
   "source": []
  }
 ],
 "metadata": {
  "jupytext": {
   "formats": "ipynb,md"
  },
  "kernelspec": {
   "display_name": "Python 3 (ipykernel)",
   "language": "python",
   "name": "python3"
  },
  "language_info": {
   "codemirror_mode": {
    "name": "ipython",
    "version": 3
   },
   "file_extension": ".py",
   "mimetype": "text/x-python",
   "name": "python",
   "nbconvert_exporter": "python",
   "pygments_lexer": "ipython3",
   "version": "3.10.13"
  }
 },
 "nbformat": 4,
 "nbformat_minor": 5
}
